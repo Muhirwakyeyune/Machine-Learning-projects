{
  "nbformat": 4,
  "nbformat_minor": 0,
  "metadata": {
    "colab": {
      "provenance": []
    },
    "kernelspec": {
      "name": "python3",
      "display_name": "Python 3"
    },
    "language_info": {
      "name": "python"
    }
  },
  "cells": [
    {
      "cell_type": "code",
      "execution_count": 25,
      "metadata": {
        "id": "FrKNrpTfH_TO"
      },
      "outputs": [],
      "source": []
    },
    {
      "cell_type": "markdown",
      "source": [
        "prepared by Muhirwa Salomon"
      ],
      "metadata": {
        "id": "1O4CEWBQIJyj"
      }
    },
    {
      "cell_type": "markdown",
      "source": [
        "Simple Linear Regression:\n",
        "Simple linear regression is used when there is only one input feature. The equation of the model is:\n",
        "\n",
        "Y = b0 + b1X + e\n",
        "\n",
        "where Y is the output variable, X is the input feature, b0 and b1 are the regression coefficients, and e is the random error term.\n",
        "\n",
        "The goal of simple linear regression is to find the values of b0 and b1 that minimize the sum of squared errors between the predicted values and the actual values in the training data.\n",
        "\n",
        "Simple Linear Regression Formula:\n",
        "The formula for simple linear regression is:\n",
        "\n",
        "b1 = Σ((Xi - X_mean)*(Yi - Y_mean)) / Σ((Xi - X_mean)^2)\n",
        "\n",
        "b0 = Y_mean - b1*X_mean\n",
        "\n",
        "where Xi and Yi are the input and output values in the training data, X_mean and Y_mean are the mean values of the input and output variables, and Σ denotes the sum of the values over all observations in the training data"
      ],
      "metadata": {
        "id": "_AXAEQSLKue3"
      }
    },
    {
      "cell_type": "code",
      "source": [
        "import pandas as pd\n",
        "from sklearn.datasets import load_diabetes\n",
        "from sklearn.model_selection import train_test_split\n",
        "import numpy as np\n",
        "\n",
        "diabetes = load_diabetes()\n",
        "df = pd.DataFrame(data=diabetes.data, columns=diabetes.feature_names)\n",
        "X = df.values\n",
        "y = diabetes.target.reshape(-1, 1)\n",
        "\n",
        "X_train, X_test, y_train, y_test = train_test_split(X, y, test_size=0.2, random_state=42)\n",
        "\n",
        "class sLregression:\n",
        "    def __init__(self):\n",
        "        self.b0 = None\n",
        "        self.b1 = None\n",
        "        \n",
        "    def fit(self, x, y):\n",
        "        y = y.reshape(-1, 1)\n",
        "        # calculate the coefficients \n",
        "        self.b1 = np.sum((x - np.mean(x,axis=0))*(y - np.mean(y))) / np.sum((x - np.mean(x,axis=0))**2,axis=0)\n",
        "        self.b0 = np.mean(y) - self.b1*np.mean(x,axis=0)\n",
        "        return self\n",
        "    \n",
        "    def predict(self, x):\n",
        "        # predict the output\n",
        "        y_pred = self.b0 + (x*self.b1)\n",
        "        return y_pred\n",
        "    \n",
        "    def loss(self, y, y_pred):\n",
        "        n = len(y)\n",
        "        mse = (1/len(y))*np.sum((y-y_pred)**2)\n",
        "        return mse\n",
        "\n",
        "# Initialize the model\n",
        "model = sLregression()\n",
        "\n",
        "# Fit the model to the training data\n",
        "model.fit(X_train, y_train)\n",
        "\n",
        "# Print the coefficients for each feature\n",
        "coefficients = pd.Series(model.b1.ravel(), index=diabetes.feature_names)\n",
        "print(\"Coefficients:\\n\", coefficients)\n",
        "\n",
        "# Use the model to make predictions on the test data\n",
        "y_pred = model.predict(X_test)\n",
        "\n",
        "# Calculate the mean squared error between the predicted and actual target values\n",
        "mse = model.loss(y_test, y_pred)\n",
        "print(\"Mean Squared Error:\", mse)\n"
      ],
      "metadata": {
        "colab": {
          "base_uri": "https://localhost:8080/"
        },
        "id": "-TGnOpoU_wUq",
        "outputId": "22a635aa-185c-4982-cfc7-347b3aef9eae"
      },
      "execution_count": 51,
      "outputs": [
        {
          "output_type": "stream",
          "name": "stdout",
          "text": [
            "Coefficients:\n",
            " age    4510.693166\n",
            "sex    4266.067184\n",
            "bmi    4332.872681\n",
            "bp     4122.123722\n",
            "s1     4240.784315\n",
            "s2     4268.359157\n",
            "s3     4375.642193\n",
            "s4     4240.046293\n",
            "s5     4233.261114\n",
            "s6     4137.203283\n",
            "dtype: float64\n",
            "Mean Squared Error: 390077.0305393243\n"
          ]
        }
      ]
    },
    {
      "cell_type": "code",
      "source": [],
      "metadata": {
        "id": "PO_1pFRmA3Bq"
      },
      "execution_count": null,
      "outputs": []
    }
  ]
}