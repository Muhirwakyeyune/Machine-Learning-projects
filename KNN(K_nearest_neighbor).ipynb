{
  "nbformat": 4,
  "nbformat_minor": 0,
  "metadata": {
    "colab": {
      "provenance": [],
      "authorship_tag": "ABX9TyOU70MLkVsNyuttooH/aAZs",
      "include_colab_link": true
    },
    "kernelspec": {
      "name": "python3",
      "display_name": "Python 3"
    },
    "language_info": {
      "name": "python"
    }
  },
  "cells": [
    {
      "cell_type": "markdown",
      "metadata": {
        "id": "view-in-github",
        "colab_type": "text"
      },
      "source": [
        "<a href=\"https://colab.research.google.com/github/Muhirwakyeyune/Machine-Learning-projects/blob/main/KNN(K_nearest_neighbor).ipynb\" target=\"_parent\"><img src=\"https://colab.research.google.com/assets/colab-badge.svg\" alt=\"Open In Colab\"/></a>"
      ]
    },
    {
      "cell_type": "code",
      "execution_count": 93,
      "metadata": {
        "id": "tWr33Yymvv4O"
      },
      "outputs": [],
      "source": []
    },
    {
      "cell_type": "markdown",
      "source": [
        "prepared by Muhirwa Salomon"
      ],
      "metadata": {
        "id": "NRx-G6zlv68G"
      }
    },
    {
      "cell_type": "markdown",
      "source": [
        "K-Nearest Neighbor (KNN) is a simple and effective machine learning algorithm used for both classification and regression tasks. It is a non-parametric algorithm, meaning that it does not make any assumptions about the underlying distribution of the data.\n",
        "\n",
        "KNN works by finding the K closest data points in the training set to a given input data point and using the class (in classification) or average value (in regression) of those K points to predict the class or value of the input data point.\n",
        "\n",
        "KNN is a useful algorithm because it is easy to understand and implement, and it can be effective in a wide range of applications. It can work well with both small and large datasets, and it is especially useful when there is not a lot of prior information about the distribution of the data.\n",
        "\n",
        "The factor K represents the number of neighbors that are considered when making a prediction. Choosing the right value for K is important because it can greatly affect the performance of the algorithm. If K is too small, the algorithm may be overly sensitive to noise in the data, leading to poor generalization performance. On the other hand, if K is too large, the algorithm may oversimplify the problem and miss important patterns in the data.\n",
        "\n",
        "There are various techniques for choosing the optimal value of K, including using cross-validation and grid search. In general, the best value for K depends on the specific problem at hand and the characteristics of the dataset."
      ],
      "metadata": {
        "id": "mZs35uf_wBm9"
      }
    },
    {
      "cell_type": "code",
      "source": [
        "import pandas as pd\n",
        "import numpy as np\n",
        "import matplotlib.pyplot as plt\n",
        "import sklearn\n",
        "from sklearn.datasets import make_classification"
      ],
      "metadata": {
        "id": "blqpBbduCUva"
      },
      "execution_count": 94,
      "outputs": []
    },
    {
      "cell_type": "code",
      "source": [
        "\n",
        "#Load the iris dataset from sklearn\n",
        "X, y = make_classification(n_features=2, n_redundant=0, \n",
        "                           n_informative=2, random_state=1, \n",
        "                           n_clusters_per_class=1)\n",
        "X.shape\n"
      ],
      "metadata": {
        "colab": {
          "base_uri": "https://localhost:8080/"
        },
        "id": "jfXw4aphwLLy",
        "outputId": "437d3106-2a5d-42ce-af24-e04840f4fd7e"
      },
      "execution_count": 95,
      "outputs": [
        {
          "output_type": "execute_result",
          "data": {
            "text/plain": [
              "(100, 2)"
            ]
          },
          "metadata": {},
          "execution_count": 95
        }
      ]
    },
    {
      "cell_type": "code",
      "source": [],
      "metadata": {
        "id": "aBQlFDJjCT2q"
      },
      "execution_count": 95,
      "outputs": []
    },
    {
      "cell_type": "code",
      "source": [
        "from sklearn.model_selection import train_test_split\n",
        "X_train, X_test, y_train, y_test = train_test_split(X, y, test_size=0.3, random_state=42)\n"
      ],
      "metadata": {
        "id": "trKwALaJ-cU3"
      },
      "execution_count": 96,
      "outputs": []
    },
    {
      "cell_type": "code",
      "source": [
        "import numpy as np\n",
        "from collections import Counter\n",
        "\n",
        "def euclidean_distance(x1, x2):\n",
        "    # Computes the Euclidean distance between two points.\n",
        "    return np.sqrt(np.sum((x1 - x2)**2))\n",
        "\n",
        "class KNN:\n",
        "    def __init__(self, k=3):\n",
        "        # Initializes the KNN classifier with a default value of k=3.\n",
        "        self.k = k\n",
        "        \n",
        "    def fit(self, X, y):\n",
        "        # Stores the training data and labels.\n",
        "        self.X_train = X\n",
        "        self.y_train = y\n",
        "        \n",
        "    def predict(self, X):\n",
        "        # Predicts the labels for a set of input samples.\n",
        "        predicted_labels = [self._predict(x) for x in X]\n",
        "        return np.array(predicted_labels)\n",
        "        \n",
        "    def _predict(self, x):\n",
        "        # Predicts the label for a single input sample.\n",
        "        \n",
        "        # Computes the Euclidean distances between the input sample and all the training samples.\n",
        "        distances = [euclidean_distance(x, x_train) for x_train in self.X_train]\n",
        "        \n",
        "        # Gets the indices of the k nearest neighbors.\n",
        "        k_indices = np.argsort(distances)[:self.k]\n",
        "        \n",
        "        # Gets the labels of the k nearest neighbors.\n",
        "        k_labels = [self.y_train[i] for i in k_indices]\n",
        "        \n",
        "        # Finds the most common label among the k nearest neighbors.\n",
        "        most_common = Counter(k_labels).most_common(1)\n",
        "        \n",
        "        # Returns the predicted label.\n",
        "        return most_common[0][0]\n",
        "    \n",
        "    def accuracy(self, X_test, y_test):\n",
        "        # Computes the accuracy of the classifier on a test set.\n",
        "        y_pred = self.predict(X_test)\n",
        "        return np.sum(y_pred == y_test) / len(y_test)\n",
        "    def plot_decision_boundary(self, X, y):\n",
        "        # Create a meshgrid over the feature space of the input data\n",
        "        x_min, x_max = X[:, 0].min() - 1, X[:, 0].max() + 1\n",
        "        y_min, y_max = X[:, 1].min() - 1, X[:, 1].max() + 1\n",
        "        xx, yy = np.meshgrid(np.arange(x_min, x_max, 0.1),\n",
        "                             np.arange(y_min, y_max, 0.1))\n",
        "        \n",
        "        # Predict the class for each point on the meshgrid\n",
        "        Z = self.predict(np.c_[xx.ravel(), yy.ravel()])\n",
        "        Z = Z.reshape(xx.shape)\n",
        "        \n",
        "        # Plot the meshgrid and color each point according to the predicted class\n",
        "        plt.contourf(xx, yy, Z, alpha=0.4)\n",
        "        plt.scatter(X[:, 0], X[:, 1], c=y, s=20, edgecolor='k')\n",
        "        plt.title(\"KNN (k = {})\".format(self.k))\n",
        "        plt.xlabel(\"Feature 1\")\n",
        "        plt.ylabel(\"Feature 2\")\n",
        "        plt.show()"
      ],
      "metadata": {
        "id": "nTGOc3RuBRye"
      },
      "execution_count": 97,
      "outputs": []
    },
    {
      "cell_type": "code",
      "source": [
        "# from sklearn.datasets import load_iris\n",
        "# from sklearn.model_selection import train_test_split\n",
        "\n",
        "# # Load the iris dataset\n",
        "# iris = load_iris()\n",
        "# X = iris.data\n",
        "# y = iris.target\n",
        "\n",
        "# # Split the dataset into training and test sets\n",
        "# X_train, X_test, y_train, y_test = train_test_split(X, y, test_size=0.2, random_state=42)\n",
        "\n",
        "# # Create a KNN classifier and fit it to the training data\n",
        "# knn = KNN(k=3)\n",
        "# knn.fit(X_train, y_train)\n",
        "\n",
        "# # Calculate the accuracy of the model on the test set\n",
        "# accuracy = knn.accuracy(X_test, y_test)\n",
        "# print(f\"Accuracy: {accuracy:.2f}\")\n"
      ],
      "metadata": {
        "id": "V9lfDP-QBXAW"
      },
      "execution_count": 98,
      "outputs": []
    },
    {
      "cell_type": "markdown",
      "source": [
        "In this implementation, we have defined the euclidean_distance function to calculate the Euclidean distance between two points, and the KNN class with fit and predict methods. The fit method simply stores the training data, and the predict method calls the _predict method for each test data point. The _predict method calculates the distances between the test point and all training points, selects the k closest points, and returns the most common class label among those points.\n",
        "\n"
      ],
      "metadata": {
        "id": "x1EV8OiFBfYM"
      }
    },
    {
      "cell_type": "code",
      "source": [
        "knn = KNN(k=5)\n",
        "knn.fit(X_train, y_train)\n"
      ],
      "metadata": {
        "id": "WcdeLKvYBghh"
      },
      "execution_count": 99,
      "outputs": []
    },
    {
      "cell_type": "code",
      "source": [
        "y_pred = knn.predict(X_test)\n"
      ],
      "metadata": {
        "id": "thUmo3uOBmKD"
      },
      "execution_count": 100,
      "outputs": []
    },
    {
      "cell_type": "code",
      "source": [
        "accuracy = knn.accuracy(X_test, y_test)\n",
        "print(f\"Accuracy: {accuracy:.2f}\")\n"
      ],
      "metadata": {
        "colab": {
          "base_uri": "https://localhost:8080/"
        },
        "id": "cgz1nArmBspo",
        "outputId": "8b320c7b-c728-418b-bcd7-dbbfbce33cc9"
      },
      "execution_count": 101,
      "outputs": [
        {
          "output_type": "stream",
          "name": "stdout",
          "text": [
            "Accuracy: 1.00\n"
          ]
        }
      ]
    },
    {
      "cell_type": "code",
      "source": [
        "\n"
      ],
      "metadata": {
        "id": "9TPCK4h-BxYs"
      },
      "execution_count": 101,
      "outputs": []
    },
    {
      "cell_type": "code",
      "source": [
        "# Plot the decision boundary for the KNN classifier\n",
        "knn.plot_decision_boundary(X_train, y_train)"
      ],
      "metadata": {
        "colab": {
          "base_uri": "https://localhost:8080/",
          "height": 472
        },
        "id": "TgWnHwyEEfEB",
        "outputId": "fff6ee25-8598-44cf-c990-ed980eb545f4"
      },
      "execution_count": 102,
      "outputs": [
        {
          "output_type": "display_data",
          "data": {
            "text/plain": [
              "<Figure size 640x480 with 1 Axes>"
            ],
            "image/png": "[encoded data removed]"
          },
          "metadata": {}
        }
      ]
    },
    {
      "cell_type": "code",
      "source": [],
      "metadata": {
        "id": "-drgk3hBEfqn"
      },
      "execution_count": 102,
      "outputs": []
    }
  ]
}